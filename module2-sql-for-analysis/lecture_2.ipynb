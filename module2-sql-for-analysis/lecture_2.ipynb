{
 "metadata": {
  "language_info": {
   "codemirror_mode": {
    "name": "ipython",
    "version": 3
   },
   "file_extension": ".py",
   "mimetype": "text/x-python",
   "name": "python",
   "nbconvert_exporter": "python",
   "pygments_lexer": "ipython3",
   "version": "3.7.6-final"
  },
  "orig_nbformat": 2,
  "kernelspec": {
   "name": "python37664bitlambdacondacb68491169424e74b900ccbe2296997a",
   "display_name": "Python 3.7.6 64-bit ('lambda': conda)"
  }
 },
 "nbformat": 4,
 "nbformat_minor": 2,
 "cells": [
  {
   "cell_type": "code",
   "execution_count": 4,
   "metadata": {},
   "outputs": [],
   "source": [
    "import os\n",
    "import psycopg2\n",
    "from dotenv import load_dotenv"
   ]
  },
  {
   "cell_type": "code",
   "execution_count": 5,
   "metadata": {},
   "outputs": [],
   "source": [
    "load_dotenv()\n",
    "\n",
    "DB_NAME = os.getenv('DB_NAME')\n",
    "DB_USER = os.getenv('DB_USER')\n",
    "DB_PASS = os.getenv('DB_PASS')\n",
    "DB_HOST = os.getenv('DB_HOST')"
   ]
  },
  {
   "cell_type": "code",
   "execution_count": 6,
   "metadata": {
    "tags": []
   },
   "outputs": [
    {
     "output_type": "stream",
     "name": "stdout",
     "text": "[(1, 'A row name', None), (2, 'Another row, with JSON', {'a': 1, 'b': ['dog', 'cat', 42], 'c': True})]\n"
    }
   ],
   "source": [
    "### Connect to ElephantSQL-hosted PostgreSQL\n",
    "conn = psycopg2.connect(dbname=DB_NAME, \n",
    "                        user=DB_USER,\n",
    "                        password=DB_PASS,\n",
    "                        host=DB_HOST)\n",
    "### A \"cursor\", a structure to iterate over db records to perform queries\n",
    "cursor = conn.cursor()\n",
    "### An example query\n",
    "cursor.execute('SELECT * from test_table;')\n",
    "### Note - nothing happened yet! We need to actually *fetch* from the cursor\n",
    "results = cursor.fetchall()\n",
    "print(results)"
   ]
  },
  {
   "cell_type": "code",
   "execution_count": 7,
   "metadata": {},
   "outputs": [],
   "source": [
    "### Connect to SQLite3 DB for RPG data #############\n",
    "import sqlite3\n",
    "\n",
    "sl_conn = sqlite3.connect('rpg_db.sqlite3')\n",
    "sl_cursor = sl_conn.cursor()"
   ]
  },
  {
   "cell_type": "code",
   "execution_count": 9,
   "metadata": {
    "tags": []
   },
   "outputs": [
    {
     "output_type": "stream",
     "name": "stdout",
     "text": "[(1, 'Aliquid iste optio reiciendi', 0, 0, 10, 1, 1, 1, 1), (2, 'Optio dolorem ex a', 0, 0, 10, 1, 1, 1, 1), (3, 'Minus c', 0, 0, 10, 1, 1, 1, 1), (4, 'Sit ut repr', 0, 0, 10, 1, 1, 1, 1), (5, 'At id recusandae expl', 0, 0, 10, 1, 1, 1, 1), (6, 'Non nobis et of', 0, 0, 10, 1, 1, 1, 1), (7, 'Perferendis', 0, 0, 10, 1, 1, 1, 1), (8, 'Accusantium amet quidem eve', 0, 0, 10, 1, 1, 1, 1), (9, 'Sed nostrum inventore error m', 0, 0, 10, 1, 1, 1, 1), (10, 'Harum repellendus omnis od', 0, 0, 10, 1, 1, 1, 1)]\n"
    }
   ],
   "source": [
    "characters = sl_cursor.execute('SELECT * FROM charactercreator_character LIMIT 10').fetchall()\n",
    "print(characters)"
   ]
  },
  {
   "cell_type": "code",
   "execution_count": null,
   "metadata": {},
   "outputs": [],
   "source": [
    "# Create character table in postgres\n",
    "create_character_table_query = '''\n",
    "CREATE TABLE rpg_characters (\n",
    "    character_id SERIAL PRIMARY KEY,\n",
    "\tname VARCHAR(30),\n",
    "\tlevel INT,\n",
    "\texp INT,\n",
    "\thp INT,\n",
    "\tstrength INT,\n",
    "\tintelligence INT,\n",
    "\tdexterity INT,\n",
    "\twisdom INT\n",
    ")\n",
    "'''\n",
    "conn = psycopg2.connect(dbname=DB_NAME, \n",
    "                        user=DB_USER,\n",
    "                        password=DB_PASS,\n",
    "                        host=DB_HOST)\n",
    "cursor = conn.cursor()\n",
    "cursor.execute(create_character_table_query)\n",
    "conn.commit()"
   ]
  },
  {
   "cell_type": "code",
   "execution_count": null,
   "metadata": {},
   "outputs": [],
   "source": []
  }
 ]
}